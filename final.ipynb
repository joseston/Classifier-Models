{
 "cells": [
  {
   "cell_type": "code",
   "execution_count": 1,
   "metadata": {},
   "outputs": [],
   "source": [
    "import pandas as pd\n",
    "import numpy as np\n",
    "from sklearn import preprocessing\n",
    "from sklearn.model_selection import train_test_split\n",
    "from sklearn.linear_model import LogisticRegression"
   ]
  },
  {
   "cell_type": "code",
   "execution_count": 2,
   "metadata": {},
   "outputs": [],
   "source": [
    "df = pd.read_excel(\"databasef.xlsx\")"
   ]
  },
  {
   "cell_type": "markdown",
   "metadata": {},
   "source": [
    "<center><H1>Primera Etapa</H1></center>"
   ]
  },
  {
   "cell_type": "markdown",
   "metadata": {},
   "source": [
    "<h3>Limpieza de Datos</h3>"
   ]
  },
  {
   "cell_type": "code",
   "execution_count": 3,
   "metadata": {},
   "outputs": [],
   "source": [
    "#Fecha de Inicio aproximado de efecto de la vacunación y selección de positivo al COVID-19\n",
    "df = df[(df['fecha_ingreso_hosp'] > '2021-05-01') & (df['cdc_positividad'] == 1)] \n",
    "\n",
    "#Eliminación de variables \n",
    "lst_drop = [\n",
    " 'id_persona', #No se toma en cuenta porque es único\n",
    " 'fecha_ingreso_hosp', #No se toma en cuenta porque es fecha\n",
    " 'fecha_ingreso_uci', #No se toma en cuenta porque es fecha\n",
    " 'fecha_ingreso_ucin', #No se toma en cuenta porque es fecha\n",
    " 'fecha_ingreso_ucin', #No se toma en cuenta porque es fecha\n",
    " 'fecha_segumiento_hosp_ultimo', #No se toma en cuenta porque es fecha\n",
    " 'evolucion_hosp_ultimo', #No se toma en cuenta porque no se quiere saber la evolución\n",
    " 'cdc_fecha_fallecido_covid', #No se toma en cuenta porque es fecha\n",
    " 'fecha_dosis1', #No se toma en cuenta porque es fecha\n",
    " 'fecha_dosis2', #No se toma en cuenta porque es fecha\n",
    " 'fecha_dosis3' #No se toma en cuenta porque es fecha\n",
    " ] \n",
    " \n",
    "df_1 = df.drop(columns=lst_drop)\n",
    "#Eliminacion de records con variables importantes vacias\n",
    "df_1 = df_1[(df_1['edad'].notna()) & (df_1['sexo'].notna())] \n",
    "#Variable Sexo Dummy\n",
    "df_1[\"sexo\"] = np.where(df_1[\"sexo\"] == \"F\", 0, 1)\n",
    "#Separación de la variable Edad por Rango de Edad\n",
    "df_1.loc[df_1['edad']<1, 'age_group'] = 'Neonato'\n",
    "df_1.loc[df_1['edad'].between(1,7), 'age_group'] = 'Edad 1-7'\n",
    "df_1.loc[df_1['edad'].between(8,15), 'age_group'] = 'Edad 8-15'\n",
    "df_1.loc[df_1['edad'].between(16,30), 'age_group'] = 'Edad 16-30'\n",
    "df_1.loc[df_1['edad'].between(31,45), 'age_group'] = 'Edad 31-45'\n",
    "df_1.loc[df_1['edad'].between(46,60), 'age_group'] = 'Edad 46-60'\n",
    "df_1.loc[df_1['edad'].between(61,90), 'age_group'] = 'Edad 61-90'\n",
    "df_1.loc[df_1['edad']>90, 'age_group'] = 'Edad 90+'"
   ]
  },
  {
   "cell_type": "code",
   "execution_count": 4,
   "metadata": {},
   "outputs": [
    {
     "name": "stdout",
     "output_type": "stream",
     "text": [
      "<class 'pandas.core.frame.DataFrame'>\n",
      "Int64Index: 19247 entries, 0 to 138642\n",
      "Data columns (total 20 columns):\n",
      " #   Column                 Non-Null Count  Dtype \n",
      "---  ------                 --------------  ----- \n",
      " 0   eess_renaes            19247 non-null  int64 \n",
      " 1   eess_diresa            19247 non-null  object\n",
      " 2   eess_red               19247 non-null  object\n",
      " 3   eess_nombre            19247 non-null  object\n",
      " 4   id_eess                19247 non-null  int64 \n",
      " 5   sexo                   19247 non-null  int32 \n",
      " 6   flag_uci               19247 non-null  int64 \n",
      " 7   con_oxigeno            19247 non-null  int32 \n",
      " 8   con_ventilacion        19247 non-null  int32 \n",
      " 9   flag_vacuna            19247 non-null  int32 \n",
      " 10  fabricante_dosis1      19247 non-null  object\n",
      " 11  fabricante_dosis2      19247 non-null  object\n",
      " 12  fabricante_dosis3      19247 non-null  object\n",
      " 13  cdc_positividad        19247 non-null  int64 \n",
      " 14  cdc_fallecido_covid    19247 non-null  int64 \n",
      " 15  ubigeo_inei_domicilio  19247 non-null  int64 \n",
      " 16  dep_domicilio          19247 non-null  object\n",
      " 17  prov_domicilio         19247 non-null  object\n",
      " 18  dist_domicilio         19247 non-null  object\n",
      " 19  age_group              19247 non-null  object\n",
      "dtypes: int32(4), int64(6), object(10)\n",
      "memory usage: 2.8+ MB\n"
     ]
    }
   ],
   "source": [
    "#Conversión a enteros \n",
    "df_f = df_1.drop(columns=['edad'])\n",
    "convert_dict = {'con_oxigeno': int,\n",
    "                'con_ventilacion': int,\n",
    "                'flag_vacuna' : int\n",
    "               }\n",
    "df_f = df_f.astype(convert_dict)\n",
    "#Agregando otras categorías a las variables\n",
    "df_f['fabricante_dosis1'] = df['fabricante_dosis1'].replace(np.nan, 'NULL')\n",
    "df_f['fabricante_dosis2'] = df['fabricante_dosis2'].replace(np.nan, 'NULL')\n",
    "df_f['fabricante_dosis3'] = df['fabricante_dosis3'].replace(np.nan, 'NULL')\n",
    "df_f['fabricante_dosis1'] = df_f['fabricante_dosis1'].map({'NULL': 'FB 1 0 ','SINOPHARM': 'FB 1 SINOPHARM','PFIZER': 'FB 1 PFIZER','ASTRAZENECA': 'FB 1 AZTRAZENECA'})\n",
    "df_f['fabricante_dosis2'] = df_f['fabricante_dosis2'].map({'NULL': 'FB 2 0 ','SINOPHARM': 'FB 2 SINOPHARM','PFIZER': 'FB 2 PFIZER','ASTRAZENECA': 'FB 2 AZTRAZENECA'})\n",
    "df_f['fabricante_dosis3'] = df_f['fabricante_dosis3'].map({'NULL': 'FB 3 0 ','SINOPHARM': 'FB 3 SINOPHARM','PFIZER': 'FB 3 PFIZER','ASTRAZENECA': 'FB 3 AZTRAZENECA'})\n",
    "\n",
    "df_f.info() #Información de la data final"
   ]
  },
  {
   "cell_type": "markdown",
   "metadata": {},
   "source": [
    "<h3>Creación de variables Dummy</h3>"
   ]
  },
  {
   "cell_type": "code",
   "execution_count": 5,
   "metadata": {},
   "outputs": [],
   "source": [
    "final = df_f"
   ]
  },
  {
   "cell_type": "code",
   "execution_count": 6,
   "metadata": {},
   "outputs": [],
   "source": [
    "cat_vars=['flag_vacuna','fabricante_dosis1','fabricante_dosis2','fabricante_dosis3','age_group']\n",
    "for var in cat_vars:\n",
    "    cat_list ='var'+ '_'+var\n",
    "    cat_list = pd.get_dummies(final[var], prefix=var)\n",
    "    data1=final.join(cat_list)\n",
    "    final=data1\n",
    "\n",
    "cat_vars=['flag_vacuna','fabricante_dosis1','fabricante_dosis2','fabricante_dosis3','age_group']\n",
    "data_vars=final.columns.values.tolist()\n",
    "to_keep=[i for i in data_vars if i not in cat_vars]"
   ]
  },
  {
   "cell_type": "code",
   "execution_count": 9,
   "metadata": {},
   "outputs": [
    {
     "data": {
      "text/plain": [
       "array(['sexo', 'flag_uci', 'con_oxigeno', 'con_ventilacion',\n",
       "       'cdc_fallecido_covid', 'flag_vacuna_0', 'flag_vacuna_1',\n",
       "       'flag_vacuna_2', 'flag_vacuna_3', 'fabricante_dosis1_FB 1 0 ',\n",
       "       'fabricante_dosis1_FB 1 AZTRAZENECA',\n",
       "       'fabricante_dosis1_FB 1 PFIZER',\n",
       "       'fabricante_dosis1_FB 1 SINOPHARM', 'fabricante_dosis2_FB 2 0 ',\n",
       "       'fabricante_dosis2_FB 2 AZTRAZENECA',\n",
       "       'fabricante_dosis2_FB 2 PFIZER',\n",
       "       'fabricante_dosis2_FB 2 SINOPHARM', 'fabricante_dosis3_FB 3 0 ',\n",
       "       'fabricante_dosis3_FB 3 AZTRAZENECA',\n",
       "       'fabricante_dosis3_FB 3 PFIZER', 'age_group_Edad 1-7',\n",
       "       'age_group_Edad 16-30', 'age_group_Edad 31-45',\n",
       "       'age_group_Edad 46-60', 'age_group_Edad 61-90',\n",
       "       'age_group_Edad 8-15', 'age_group_Edad 90+', 'age_group_Neonato'],\n",
       "      dtype=object)"
      ]
     },
     "execution_count": 9,
     "metadata": {},
     "output_type": "execute_result"
    }
   ],
   "source": [
    "data_final=final[to_keep]\n",
    "lst = ['eess_renaes','eess_nombre','id_eess','ubigeo_inei_domicilio','prov_domicilio','dist_domicilio','cdc_positividad','eess_red','eess_diresa','dep_domicilio']\n",
    "data_final = data_final.drop(columns = lst)\n",
    "data_final.columns.values"
   ]
  },
  {
   "cell_type": "markdown",
   "metadata": {},
   "source": [
    "<center><H1>Segunda Etapa</H1></center>"
   ]
  },
  {
   "cell_type": "markdown",
   "metadata": {},
   "source": [
    "<h3>Over-sampling using SMOTE</h3>"
   ]
  },
  {
   "cell_type": "code",
   "execution_count": 10,
   "metadata": {},
   "outputs": [
    {
     "name": "stdout",
     "output_type": "stream",
     "text": [
      "0    14523\n",
      "1     4724\n",
      "Name: cdc_fallecido_covid, dtype: int64\n"
     ]
    }
   ],
   "source": [
    "X = data_final.loc[:, data_final.columns != 'cdc_fallecido_covid']\n",
    "y = data_final.loc[:, data_final.columns == 'cdc_fallecido_covid']\n",
    "print(data_final['cdc_fallecido_covid'].value_counts())"
   ]
  },
  {
   "cell_type": "code",
   "execution_count": 11,
   "metadata": {},
   "outputs": [
    {
     "name": "stdout",
     "output_type": "stream",
     "text": [
      "length of oversampled data is  20364\n",
      "Number of no diseases by covid-19 10182\n",
      "Number of diseases by covid-19 10182\n",
      "Proportion of no diseases by covid-19 in oversampled data is  0.5\n",
      "Proportion of diseases by covid-19 in oversampled data is  0.5\n"
     ]
    }
   ],
   "source": [
    "#Utiliza K-neartest Neighbord\n",
    "from imblearn.over_sampling import SMOTE\n",
    "os = SMOTE(random_state=0)\n",
    "#Entrenamiento de datos para conseguir el Oversampling\n",
    "X_train, X_test, y_train, y_test = train_test_split(X, y, test_size=0.3, random_state=0)\n",
    "columns = X_train.columns\n",
    "os_data_X,os_data_y= os.fit_resample(X_train, y_train)\n",
    "#Creación del data frame nuevo\n",
    "os_data_X = pd.DataFrame(data=os_data_X,columns=columns )\n",
    "os_data_y= pd.DataFrame(data=os_data_y,columns=['cdc_fallecido_covid'])\n",
    "# we can Check the numbers of our data\n",
    "print(\"length of oversampled data is \",len(os_data_X))\n",
    "print(\"Number of no diseases by covid-19\",len(os_data_y[os_data_y['cdc_fallecido_covid']==0]))\n",
    "print(\"Number of diseases by covid-19\",len(os_data_y[os_data_y['cdc_fallecido_covid']==1]))\n",
    "print(\"Proportion of no diseases by covid-19 in oversampled data is \",len(os_data_y[os_data_y['cdc_fallecido_covid']==0])/len(os_data_X))\n",
    "print(\"Proportion of diseases by covid-19 in oversampled data is \",len(os_data_y[os_data_y['cdc_fallecido_covid']==1])/len(os_data_X))"
   ]
  },
  {
   "cell_type": "markdown",
   "metadata": {},
   "source": [
    "<h3>Eliminación recursiva de varibales</h3>"
   ]
  },
  {
   "cell_type": "code",
   "execution_count": 12,
   "metadata": {},
   "outputs": [
    {
     "name": "stdout",
     "output_type": "stream",
     "text": [
      "['sexo', 'flag_uci', 'con_oxigeno', 'con_ventilacion', 'flag_vacuna_0', 'flag_vacuna_1', 'flag_vacuna_2', 'flag_vacuna_3', 'fabricante_dosis1_FB 1 0 ', 'fabricante_dosis1_FB 1 AZTRAZENECA', 'fabricante_dosis1_FB 1 PFIZER', 'fabricante_dosis1_FB 1 SINOPHARM', 'fabricante_dosis2_FB 2 0 ', 'fabricante_dosis2_FB 2 AZTRAZENECA', 'fabricante_dosis2_FB 2 PFIZER', 'fabricante_dosis2_FB 2 SINOPHARM', 'fabricante_dosis3_FB 3 0 ', 'fabricante_dosis3_FB 3 AZTRAZENECA', 'fabricante_dosis3_FB 3 PFIZER', 'age_group_Edad 1-7', 'age_group_Edad 16-30', 'age_group_Edad 31-45', 'age_group_Edad 46-60', 'age_group_Edad 61-90', 'age_group_Edad 8-15', 'age_group_Edad 90+', 'age_group_Neonato']\n"
     ]
    },
    {
     "name": "stderr",
     "output_type": "stream",
     "text": [
      "c:\\Users\\Usuario\\AppData\\Local\\Programs\\Python\\Python39\\lib\\site-packages\\sklearn\\linear_model\\_logistic.py:814: ConvergenceWarning: lbfgs failed to converge (status=1):\n",
      "STOP: TOTAL NO. of ITERATIONS REACHED LIMIT.\n",
      "\n",
      "Increase the number of iterations (max_iter) or scale the data as shown in:\n",
      "    https://scikit-learn.org/stable/modules/preprocessing.html\n",
      "Please also refer to the documentation for alternative solver options:\n",
      "    https://scikit-learn.org/stable/modules/linear_model.html#logistic-regression\n",
      "  n_iter_i = _check_optimize_result(\n",
      "c:\\Users\\Usuario\\AppData\\Local\\Programs\\Python\\Python39\\lib\\site-packages\\sklearn\\linear_model\\_logistic.py:814: ConvergenceWarning: lbfgs failed to converge (status=1):\n",
      "STOP: TOTAL NO. of ITERATIONS REACHED LIMIT.\n",
      "\n",
      "Increase the number of iterations (max_iter) or scale the data as shown in:\n",
      "    https://scikit-learn.org/stable/modules/preprocessing.html\n",
      "Please also refer to the documentation for alternative solver options:\n",
      "    https://scikit-learn.org/stable/modules/linear_model.html#logistic-regression\n",
      "  n_iter_i = _check_optimize_result(\n",
      "c:\\Users\\Usuario\\AppData\\Local\\Programs\\Python\\Python39\\lib\\site-packages\\sklearn\\linear_model\\_logistic.py:814: ConvergenceWarning: lbfgs failed to converge (status=1):\n",
      "STOP: TOTAL NO. of ITERATIONS REACHED LIMIT.\n",
      "\n",
      "Increase the number of iterations (max_iter) or scale the data as shown in:\n",
      "    https://scikit-learn.org/stable/modules/preprocessing.html\n",
      "Please also refer to the documentation for alternative solver options:\n",
      "    https://scikit-learn.org/stable/modules/linear_model.html#logistic-regression\n",
      "  n_iter_i = _check_optimize_result(\n",
      "c:\\Users\\Usuario\\AppData\\Local\\Programs\\Python\\Python39\\lib\\site-packages\\sklearn\\linear_model\\_logistic.py:814: ConvergenceWarning: lbfgs failed to converge (status=1):\n",
      "STOP: TOTAL NO. of ITERATIONS REACHED LIMIT.\n",
      "\n",
      "Increase the number of iterations (max_iter) or scale the data as shown in:\n",
      "    https://scikit-learn.org/stable/modules/preprocessing.html\n",
      "Please also refer to the documentation for alternative solver options:\n",
      "    https://scikit-learn.org/stable/modules/linear_model.html#logistic-regression\n",
      "  n_iter_i = _check_optimize_result(\n",
      "c:\\Users\\Usuario\\AppData\\Local\\Programs\\Python\\Python39\\lib\\site-packages\\sklearn\\linear_model\\_logistic.py:814: ConvergenceWarning: lbfgs failed to converge (status=1):\n",
      "STOP: TOTAL NO. of ITERATIONS REACHED LIMIT.\n",
      "\n",
      "Increase the number of iterations (max_iter) or scale the data as shown in:\n",
      "    https://scikit-learn.org/stable/modules/preprocessing.html\n",
      "Please also refer to the documentation for alternative solver options:\n",
      "    https://scikit-learn.org/stable/modules/linear_model.html#logistic-regression\n",
      "  n_iter_i = _check_optimize_result(\n",
      "c:\\Users\\Usuario\\AppData\\Local\\Programs\\Python\\Python39\\lib\\site-packages\\sklearn\\linear_model\\_logistic.py:814: ConvergenceWarning: lbfgs failed to converge (status=1):\n",
      "STOP: TOTAL NO. of ITERATIONS REACHED LIMIT.\n",
      "\n",
      "Increase the number of iterations (max_iter) or scale the data as shown in:\n",
      "    https://scikit-learn.org/stable/modules/preprocessing.html\n",
      "Please also refer to the documentation for alternative solver options:\n",
      "    https://scikit-learn.org/stable/modules/linear_model.html#logistic-regression\n",
      "  n_iter_i = _check_optimize_result(\n",
      "c:\\Users\\Usuario\\AppData\\Local\\Programs\\Python\\Python39\\lib\\site-packages\\sklearn\\linear_model\\_logistic.py:814: ConvergenceWarning: lbfgs failed to converge (status=1):\n",
      "STOP: TOTAL NO. of ITERATIONS REACHED LIMIT.\n",
      "\n",
      "Increase the number of iterations (max_iter) or scale the data as shown in:\n",
      "    https://scikit-learn.org/stable/modules/preprocessing.html\n",
      "Please also refer to the documentation for alternative solver options:\n",
      "    https://scikit-learn.org/stable/modules/linear_model.html#logistic-regression\n",
      "  n_iter_i = _check_optimize_result(\n",
      "c:\\Users\\Usuario\\AppData\\Local\\Programs\\Python\\Python39\\lib\\site-packages\\sklearn\\linear_model\\_logistic.py:814: ConvergenceWarning: lbfgs failed to converge (status=1):\n",
      "STOP: TOTAL NO. of ITERATIONS REACHED LIMIT.\n",
      "\n",
      "Increase the number of iterations (max_iter) or scale the data as shown in:\n",
      "    https://scikit-learn.org/stable/modules/preprocessing.html\n",
      "Please also refer to the documentation for alternative solver options:\n",
      "    https://scikit-learn.org/stable/modules/linear_model.html#logistic-regression\n",
      "  n_iter_i = _check_optimize_result(\n",
      "c:\\Users\\Usuario\\AppData\\Local\\Programs\\Python\\Python39\\lib\\site-packages\\sklearn\\linear_model\\_logistic.py:814: ConvergenceWarning: lbfgs failed to converge (status=1):\n",
      "STOP: TOTAL NO. of ITERATIONS REACHED LIMIT.\n",
      "\n",
      "Increase the number of iterations (max_iter) or scale the data as shown in:\n",
      "    https://scikit-learn.org/stable/modules/preprocessing.html\n",
      "Please also refer to the documentation for alternative solver options:\n",
      "    https://scikit-learn.org/stable/modules/linear_model.html#logistic-regression\n",
      "  n_iter_i = _check_optimize_result(\n",
      "c:\\Users\\Usuario\\AppData\\Local\\Programs\\Python\\Python39\\lib\\site-packages\\sklearn\\linear_model\\_logistic.py:814: ConvergenceWarning: lbfgs failed to converge (status=1):\n",
      "STOP: TOTAL NO. of ITERATIONS REACHED LIMIT.\n",
      "\n",
      "Increase the number of iterations (max_iter) or scale the data as shown in:\n",
      "    https://scikit-learn.org/stable/modules/preprocessing.html\n",
      "Please also refer to the documentation for alternative solver options:\n",
      "    https://scikit-learn.org/stable/modules/linear_model.html#logistic-regression\n",
      "  n_iter_i = _check_optimize_result(\n",
      "c:\\Users\\Usuario\\AppData\\Local\\Programs\\Python\\Python39\\lib\\site-packages\\sklearn\\linear_model\\_logistic.py:814: ConvergenceWarning: lbfgs failed to converge (status=1):\n",
      "STOP: TOTAL NO. of ITERATIONS REACHED LIMIT.\n",
      "\n",
      "Increase the number of iterations (max_iter) or scale the data as shown in:\n",
      "    https://scikit-learn.org/stable/modules/preprocessing.html\n",
      "Please also refer to the documentation for alternative solver options:\n",
      "    https://scikit-learn.org/stable/modules/linear_model.html#logistic-regression\n",
      "  n_iter_i = _check_optimize_result(\n",
      "c:\\Users\\Usuario\\AppData\\Local\\Programs\\Python\\Python39\\lib\\site-packages\\sklearn\\linear_model\\_logistic.py:814: ConvergenceWarning: lbfgs failed to converge (status=1):\n",
      "STOP: TOTAL NO. of ITERATIONS REACHED LIMIT.\n",
      "\n",
      "Increase the number of iterations (max_iter) or scale the data as shown in:\n",
      "    https://scikit-learn.org/stable/modules/preprocessing.html\n",
      "Please also refer to the documentation for alternative solver options:\n",
      "    https://scikit-learn.org/stable/modules/linear_model.html#logistic-regression\n",
      "  n_iter_i = _check_optimize_result(\n"
     ]
    },
    {
     "name": "stdout",
     "output_type": "stream",
     "text": [
      "[False False  True False False False False  True False  True  True  True\n",
      "  True False False False  True  True False  True  True  True  True False\n",
      "  True  True  True]\n",
      "[13  9  1  3 11  5  6  1 10  1  1  1  1 12  7  8  1  1  2  1  1  1  1  4\n",
      "  1  1  1]\n"
     ]
    }
   ],
   "source": [
    "data_final_vars=data_final.columns.values.tolist()\n",
    "y=['cdc_fallecido_covid']\n",
    "X=[i for i in data_final_vars if i not in y]\n",
    "print(X)\n",
    "from sklearn.feature_selection import RFE\n",
    "from sklearn.linear_model import LogisticRegression\n",
    "logreg = LogisticRegression()\n",
    "rfe = RFE(logreg, n_features_to_select = 15)\n",
    "rfe = rfe.fit(os_data_X, os_data_y.values.ravel())\n",
    "print(rfe.support_)\n",
    "print(rfe.ranking_)"
   ]
  },
  {
   "cell_type": "code",
   "execution_count": 13,
   "metadata": {},
   "outputs": [
    {
     "name": "stdout",
     "output_type": "stream",
     "text": [
      "['con_oxigeno', 'flag_vacuna_3', 'fabricante_dosis1_FB 1 AZTRAZENECA', 'fabricante_dosis1_FB 1 PFIZER', 'fabricante_dosis1_FB 1 SINOPHARM', 'fabricante_dosis2_FB 2 0 ', 'fabricante_dosis3_FB 3 0 ', 'fabricante_dosis3_FB 3 AZTRAZENECA', 'age_group_Edad 1-7', 'age_group_Edad 16-30', 'age_group_Edad 31-45', 'age_group_Edad 46-60', 'age_group_Edad 8-15', 'age_group_Edad 90+', 'age_group_Neonato']\n"
     ]
    }
   ],
   "source": [
    "result = np.where(rfe.ranking_ == 1)\n",
    "lst = []\n",
    "for i in range(0,15): lst.append(result[0][i])\n",
    "lst_1 = []\n",
    "for i in lst: lst_1.append(X[i])  \n",
    "print(lst_1)"
   ]
  },
  {
   "cell_type": "markdown",
   "metadata": {},
   "source": [
    "<h3>Eliminación de variables utilizando StatsModels (p-value)</h3>"
   ]
  },
  {
   "cell_type": "code",
   "execution_count": 14,
   "metadata": {},
   "outputs": [
    {
     "name": "stdout",
     "output_type": "stream",
     "text": [
      "Optimization terminated successfully.\n",
      "         Current function value: 0.337706\n",
      "         Iterations 11\n",
      "                            Logit Regression Results                           \n",
      "===============================================================================\n",
      "Dep. Variable:     cdc_fallecido_covid   No. Observations:                20364\n",
      "Model:                           Logit   Df Residuals:                    20349\n",
      "Method:                            MLE   Df Model:                           14\n",
      "Date:                 Sun, 05 Jun 2022   Pseudo R-squ.:                  0.5128\n",
      "Time:                         15:38:56   Log-Likelihood:                -6877.0\n",
      "converged:                        True   LL-Null:                       -14115.\n",
      "Covariance Type:             nonrobust   LLR p-value:                     0.000\n",
      "======================================================================================================\n",
      "                                         coef    std err          z      P>|z|      [0.025      0.975]\n",
      "------------------------------------------------------------------------------------------------------\n",
      "con_oxigeno                            0.8463      0.061     13.789      0.000       0.726       0.967\n",
      "flag_vacuna_3                         -0.9358      0.112     -8.347      0.000      -1.156      -0.716\n",
      "fabricante_dosis1_FB 1 AZTRAZENECA    -1.6388      0.103    -15.939      0.000      -1.840      -1.437\n",
      "fabricante_dosis1_FB 1 PFIZER         -1.2532      0.079    -15.829      0.000      -1.408      -1.098\n",
      "fabricante_dosis1_FB 1 SINOPHARM      -1.9461      0.085    -23.001      0.000      -2.112      -1.780\n",
      "fabricante_dosis2_FB 2 0               1.4312      0.071     20.080      0.000       1.292       1.571\n",
      "fabricante_dosis3_FB 3 0               1.0387      0.101     10.237      0.000       0.840       1.238\n",
      "fabricante_dosis3_FB 3 AZTRAZENECA    -3.0583      1.005     -3.044      0.002      -5.028      -1.089\n",
      "age_group_Edad 1-7                    -5.7206      0.317    -18.065      0.000      -6.341      -5.100\n",
      "age_group_Edad 16-30                  -3.4426      0.110    -31.219      0.000      -3.659      -3.226\n",
      "age_group_Edad 31-45                  -2.5275      0.070    -36.209      0.000      -2.664      -2.391\n",
      "age_group_Edad 46-60                  -1.5226      0.056    -27.397      0.000      -1.632      -1.414\n",
      "age_group_Edad 8-15                   -4.6454      0.327    -14.201      0.000      -5.287      -4.004\n",
      "age_group_Edad 90+                     1.1594      0.129      9.009      0.000       0.907       1.412\n",
      "age_group_Neonato                     -5.0864      1.070     -4.753      0.000      -7.184      -2.989\n",
      "======================================================================================================\n"
     ]
    }
   ],
   "source": [
    "X=os_data_X[lst_1]\n",
    "y=os_data_y['cdc_fallecido_covid']\n",
    "import statsmodels.api as sm\n",
    "logit_model=sm.Logit(y,X)\n",
    "result=logit_model.fit()\n",
    "print(result.summary())"
   ]
  },
  {
   "cell_type": "markdown",
   "metadata": {},
   "source": [
    "<center><H1>Tercera Etapa</H1></center>"
   ]
  },
  {
   "cell_type": "markdown",
   "metadata": {},
   "source": [
    "<h3>Entrenamiento de Regresion Logistica</h3>"
   ]
  },
  {
   "cell_type": "code",
   "execution_count": 20,
   "metadata": {},
   "outputs": [
    {
     "data": {
      "text/plain": [
       "LogisticRegression()"
      ]
     },
     "execution_count": 20,
     "metadata": {},
     "output_type": "execute_result"
    }
   ],
   "source": [
    "from sklearn import metrics\n",
    "\n",
    "X_train, X_test, y_train, y_test = train_test_split(X, y, test_size=0.3, random_state=0)\n",
    "logreg = LogisticRegression() #CREACION DEL MODELO\n",
    "logreg.fit(X_train, y_train) #Creación del  modelo"
   ]
  },
  {
   "cell_type": "code",
   "execution_count": 21,
   "metadata": {},
   "outputs": [
    {
     "name": "stdout",
     "output_type": "stream",
     "text": [
      "Accuracy of logistic regression classifier on test set: 0.86\n"
     ]
    }
   ],
   "source": [
    "y_pred = logreg.predict(X_test) #EVALUAMOS \n",
    "print('Accuracy of logistic regression classifier on test set: {:.2f}'.format(logreg.score(X_test, y_test)))"
   ]
  },
  {
   "cell_type": "markdown",
   "metadata": {},
   "source": [
    "<h3>Matriz de Confusión</h3>"
   ]
  },
  {
   "cell_type": "code",
   "execution_count": 22,
   "metadata": {},
   "outputs": [
    {
     "name": "stdout",
     "output_type": "stream",
     "text": [
      "[[2567  454]\n",
      " [ 383 2706]]\n"
     ]
    }
   ],
   "source": [
    "from sklearn.metrics import confusion_matrix\n",
    "confusion_matrix = confusion_matrix(y_test, y_pred)\n",
    "print(confusion_matrix)"
   ]
  },
  {
   "cell_type": "code",
   "execution_count": 23,
   "metadata": {},
   "outputs": [
    {
     "name": "stdout",
     "output_type": "stream",
     "text": [
      "              precision    recall  f1-score   support\n",
      "\n",
      "           0       0.87      0.85      0.86      3021\n",
      "           1       0.86      0.88      0.87      3089\n",
      "\n",
      "    accuracy                           0.86      6110\n",
      "   macro avg       0.86      0.86      0.86      6110\n",
      "weighted avg       0.86      0.86      0.86      6110\n",
      "\n"
     ]
    }
   ],
   "source": [
    "from sklearn.metrics import classification_report\n",
    "print(classification_report(y_test, y_pred))"
   ]
  },
  {
   "cell_type": "markdown",
   "metadata": {},
   "source": [
    "<h3>Gráfica AUC-ROC</h3>"
   ]
  },
  {
   "cell_type": "code",
   "execution_count": 24,
   "metadata": {},
   "outputs": [
    {
     "data": {
      "image/png": "[encoded data removed]",
      "text/plain": [
       "<Figure size 432x288 with 1 Axes>"
      ]
     },
     "metadata": {
      "needs_background": "light"
     },
     "output_type": "display_data"
    }
   ],
   "source": [
    "import matplotlib.pyplot as plt \n",
    "from sklearn.metrics import roc_auc_score\n",
    "from sklearn.metrics import roc_curve\n",
    "logit_roc_auc = roc_auc_score(y_test, logreg.predict(X_test))\n",
    "fpr, tpr, thresholds = roc_curve(y_test, logreg.predict_proba(X_test)[:,1])\n",
    "plt.figure()\n",
    "plt.plot(fpr, tpr, label='Logistic Regression (area = %0.2f)' % logit_roc_auc)\n",
    "plt.plot([0, 1], [0, 1],'r--')\n",
    "plt.xlim([0.0, 1.0])\n",
    "plt.ylim([0.0, 1.05])\n",
    "plt.xlabel('False Positive Rate')\n",
    "plt.ylabel('True Positive Rate')\n",
    "plt.title('Receiver operating characteristic')\n",
    "plt.legend(loc=\"lower right\")\n",
    "plt.savefig('Log_ROC')\n",
    "plt.show()"
   ]
  }
 ],
 "metadata": {
  "interpreter": {
   "hash": "4a642a9a94d05d387b7a27be99b5a4ff6656c8c24931cc81c2f78dd14cfb5dc8"
  },
  "kernelspec": {
   "display_name": "Python 3.9.1 64-bit",
   "language": "python",
   "name": "python3"
  },
  "language_info": {
   "codemirror_mode": {
    "name": "ipython",
    "version": 3
   },
   "file_extension": ".py",
   "mimetype": "text/x-python",
   "name": "python",
   "nbconvert_exporter": "python",
   "pygments_lexer": "ipython3",
   "version": "3.9.1"
  },
  "orig_nbformat": 4
 },
 "nbformat": 4,
 "nbformat_minor": 2
}
