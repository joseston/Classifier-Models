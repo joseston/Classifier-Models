{
 "cells": [
  {
   "cell_type": "code",
   "execution_count": 32,
   "metadata": {},
   "outputs": [],
   "source": [
    "import pandas as pd\n",
    "import numpy as np\n",
    "from imblearn.over_sampling import SMOTE \n",
    "from sklearn.model_selection import train_test_split\n",
    "from sklearn.linear_model import LogisticRegression "
   ]
  },
  {
   "cell_type": "markdown",
   "metadata": {},
   "source": [
    "<h3>Importing Dataframe</h3>"
   ]
  },
  {
   "cell_type": "code",
   "execution_count": 36,
   "metadata": {},
   "outputs": [],
   "source": [
    "parse_dates = ['fecha_ingreso_hosp']\n",
    "df = pd.read_csv('data.csv',parse_dates=parse_dates,dayfirst=True)"
   ]
  },
  {
   "cell_type": "markdown",
   "metadata": {},
   "source": [
    "<center><h1> 1: Data Processing</h1></center>"
   ]
  },
  {
   "cell_type": "markdown",
   "metadata": {},
   "source": [
    "<h3>Data cleaning</h3>"
   ]
  },
  {
   "cell_type": "code",
   "execution_count": 37,
   "metadata": {},
   "outputs": [],
   "source": [
    "df = df.sort_values(by = 'fecha_ingreso_hosp', ascending= True)\n",
    "df = df[(df['fecha_ingreso_hosp'] >= '2021-05-01') & (df['cdc_positividad'] == 1)] \n",
    "#Droping Unnecessary Features (Dates,Geo,ID's)\n",
    "lst_drop = [\n",
    " 'id_persona','fecha_ingreso_uci', \n",
    " 'fecha_ingreso_ucin','fecha_ingreso_ucin', \n",
    " 'fecha_segumiento_hosp_ultimo','fecha_ingreso_hosp',\n",
    " 'evolucion_hosp_ultimo','cdc_fecha_fallecido_covid',\n",
    " 'fecha_dosis1', 'fecha_dosis2', 'fecha_dosis3',\n",
    " 'eess_renaes','eess_diresa','eess_red','eess_red',\n",
    " 'eess_nombre','eess_red', 'ubigeo_inei_domicilio',\n",
    " 'dep_domicilio','prov_domicilio', 'dist_domicilio','id_eess'] \n",
    "df = df.drop(columns=lst_drop)\n",
    "#Drop Missing Values\n",
    "df = df[(df['edad'].notna()) & (df['sexo'].notna()) & (df['con_oxigeno'].notna()) & (df['con_ventilacion'].notna())] \n",
    "#Age Group Segmentation\n",
    "df.loc[df['edad'].between(0,5), 'age_group'] = 'Edad 0-5'\n",
    "df.loc[df['edad'].between(6,11), 'age_group'] = 'Edad 6-11'\n",
    "df.loc[df['edad'].between(12,18), 'age_group'] = 'Edad 12-18'\n",
    "df.loc[df['edad'].between(19,24), 'age_group'] = 'Edad 19-24'\n",
    "df.loc[df['edad'].between(25,39), 'age_group'] = 'Edad 25-39'\n",
    "df.loc[df['edad'].between(40,49), 'age_group'] = 'Edad 40-49'\n",
    "df.loc[df['edad'].between(50,64), 'age_group'] = 'Edad 50-64'\n",
    "df.loc[df['edad'].between(65,75), 'age_group'] = 'Edad 65-75'\n",
    "df.loc[df['edad']>75, 'age_group'] = 'Edad 75+'\n",
    "df = df.drop(columns=['edad']) "
   ]
  },
  {
   "cell_type": "markdown",
   "metadata": {},
   "source": [
    "<h3>Features Information</h3>"
   ]
  },
  {
   "cell_type": "code",
   "execution_count": 38,
   "metadata": {},
   "outputs": [
    {
     "name": "stdout",
     "output_type": "stream",
     "text": [
      "<class 'pandas.core.frame.DataFrame'>\n",
      "Int64Index: 20556 entries, 95815 to 100768\n",
      "Data columns (total 11 columns):\n",
      " #   Column               Non-Null Count  Dtype \n",
      "---  ------               --------------  ----- \n",
      " 0   sexo                 20556 non-null  object\n",
      " 1   flag_uci             20556 non-null  int64 \n",
      " 2   con_oxigeno          20556 non-null  int32 \n",
      " 3   con_ventilacion      20556 non-null  int32 \n",
      " 4   flag_vacuna          20556 non-null  int32 \n",
      " 5   fabricante_dosis1    20556 non-null  object\n",
      " 6   fabricante_dosis2    20556 non-null  object\n",
      " 7   fabricante_dosis3    20556 non-null  object\n",
      " 8   cdc_positividad      20556 non-null  int64 \n",
      " 9   cdc_fallecido_covid  20556 non-null  int64 \n",
      " 10  age_group            20556 non-null  object\n",
      "dtypes: int32(3), int64(3), object(5)\n",
      "memory usage: 1.6+ MB\n"
     ]
    }
   ],
   "source": [
    "#Conversión a enteros \n",
    "convert_dict = {'con_oxigeno': int,\n",
    "                'con_ventilacion': int,\n",
    "                'flag_vacuna' : int\n",
    "               }\n",
    "df_1 = df.astype(convert_dict)\n",
    "#Set categories to missing values \n",
    "df_1['fabricante_dosis1'] = df['fabricante_dosis1'].replace(np.nan, 'NULL')\n",
    "df_1['fabricante_dosis2'] = df['fabricante_dosis2'].replace(np.nan, 'NULL')\n",
    "df_1['fabricante_dosis3'] = df['fabricante_dosis3'].replace(np.nan, 'NULL')\n",
    "df_1.info()\n"
   ]
  },
  {
   "cell_type": "code",
   "execution_count": 39,
   "metadata": {},
   "outputs": [
    {
     "name": "stdout",
     "output_type": "stream",
     "text": [
      "cdc_fallecido_covid      0     1\n",
      "flag_vacuna                     \n",
      "0                     1437  3242\n",
      "1                      662   574\n",
      "2                     3016   928\n",
      "3                    10483   214\n"
     ]
    }
   ],
   "source": [
    "tabl = df_1.pivot_table(index = 'flag_vacuna', columns = 'cdc_fallecido_covid',values = 'cdc_positividad', aggfunc='count') \n",
    "print(tabl)"
   ]
  },
  {
   "cell_type": "code",
   "execution_count": 40,
   "metadata": {},
   "outputs": [
    {
     "name": "stdout",
     "output_type": "stream",
     "text": [
      "cdc_fallecido_covid     0     1   % Fallecidos\n",
      "fabricante_dosis1                             \n",
      "ASTRAZENECA          1245   236          15.94\n",
      "PFIZER               6778  1214          15.19\n",
      "SINOPHARM            6138   266           4.15\n",
      "--------------\n",
      "cdc_fallecido_covid     0    1   % Fallecidos\n",
      "fabricante_dosis2                            \n",
      "ASTRAZENECA          1145  137          10.69\n",
      "PFIZER               6543  820          11.14\n",
      "SINOPHARM            5821  186           3.10\n",
      "--------------\n",
      "cdc_fallecido_covid     0    1   % Fallecidos\n",
      "fabricante_dosis3                            \n",
      "ASTRAZENECA          1979    5           0.25\n",
      "MODERNA               131    0           0.00\n",
      "PFIZER               8427  210           2.43\n",
      "SINOPHARM               1    0           0.00\n",
      "--------------\n"
     ]
    }
   ],
   "source": [
    "lst = ['fabricante_dosis1','fabricante_dosis2','fabricante_dosis3']\n",
    "for value in lst:\n",
    "    table = df_1.pivot_table(index = value, columns = 'cdc_fallecido_covid',values = 'cdc_positividad', aggfunc='count',fill_value=0)\n",
    "    table[' % Fallecidos'] = round((table[1]/(table[0]+table[1]))*100,2)\n",
    "    table = table.drop(index=['NULL'])\n",
    "    print(table)\n",
    "    print('--------------')\n"
   ]
  },
  {
   "cell_type": "markdown",
   "metadata": {},
   "source": [
    "<h3>Dummy Variables</h3>"
   ]
  },
  {
   "cell_type": "code",
   "execution_count": 41,
   "metadata": {},
   "outputs": [
    {
     "data": {
      "text/plain": [
       "array(['sexo', 'flag_uci', 'con_oxigeno', 'con_ventilacion',\n",
       "       'cdc_positividad', 'cdc_fallecido_covid', 'flag_vacuna_0',\n",
       "       'flag_vacuna_1', 'flag_vacuna_2', 'flag_vacuna_3',\n",
       "       'fabricante_dosis1_ASTRAZENECA', 'fabricante_dosis1_PFIZER',\n",
       "       'fabricante_dosis1_SINOPHARM', 'fabricante_dosis2_ASTRAZENECA',\n",
       "       'fabricante_dosis2_PFIZER', 'fabricante_dosis2_SINOPHARM',\n",
       "       'fabricante_dosis3_ASTRAZENECA', 'fabricante_dosis3_MODERNA',\n",
       "       'fabricante_dosis3_PFIZER', 'fabricante_dosis3_SINOPHARM',\n",
       "       'age_group_Edad 0-5', 'age_group_Edad 12-18',\n",
       "       'age_group_Edad 19-24', 'age_group_Edad 25-39',\n",
       "       'age_group_Edad 40-49', 'age_group_Edad 50-64',\n",
       "       'age_group_Edad 6-11', 'age_group_Edad 65-75',\n",
       "       'age_group_Edad 75+'], dtype=object)"
      ]
     },
     "execution_count": 41,
     "metadata": {},
     "output_type": "execute_result"
    }
   ],
   "source": [
    "#Dummy Variable Sex\n",
    "df_1[\"sexo\"] = np.where(df_1[\"sexo\"] == \"F\", 0, 1)\n",
    "#Others\n",
    "cat_vars=['flag_vacuna','fabricante_dosis1','fabricante_dosis2','fabricante_dosis3','age_group']\n",
    "for var in cat_vars:\n",
    "    cat_list ='var'+ '_'+var\n",
    "    cat_list = pd.get_dummies(df_1[var], prefix=var)\n",
    "    data1=df_1.join(cat_list)\n",
    "    df_1=data1\n",
    "\n",
    "cat_vars=['flag_vacuna','fabricante_dosis1','fabricante_dosis2','fabricante_dosis3','age_group']\n",
    "data_vars=df_1.columns.values.tolist()\n",
    "to_keep=[i for i in data_vars if i not in cat_vars]\n",
    "data_final=df_1[to_keep]\n",
    "lst = ['fabricante_dosis1_NULL','fabricante_dosis2_NULL','fabricante_dosis3_NULL']\n",
    "data_final = data_final.drop(columns = lst)\n",
    "data_final.columns.values"
   ]
  },
  {
   "cell_type": "markdown",
   "metadata": {},
   "source": [
    "<center><h1>2: Feature Selection</h1></center>"
   ]
  },
  {
   "cell_type": "markdown",
   "metadata": {},
   "source": [
    "<h3>Synthetic Minority Oversampling Technique</h3>"
   ]
  },
  {
   "cell_type": "code",
   "execution_count": 42,
   "metadata": {},
   "outputs": [
    {
     "name": "stdout",
     "output_type": "stream",
     "text": [
      "0    15598\n",
      "1     4958\n",
      "Name: cdc_fallecido_covid, dtype: int64\n"
     ]
    }
   ],
   "source": [
    "X = data_final.loc[:, data_final.columns != 'cdc_fallecido_covid']\n",
    "y = data_final.loc[:, data_final.columns == 'cdc_fallecido_covid']\n",
    "print(data_final['cdc_fallecido_covid'].value_counts())"
   ]
  },
  {
   "cell_type": "code",
   "execution_count": 43,
   "metadata": {},
   "outputs": [
    {
     "name": "stdout",
     "output_type": "stream",
     "text": [
      "length of oversampled data is  21738\n",
      "Number of no diseases by covid-19 10869\n",
      "Number of diseases by covid-19 10869\n",
      "Proportion of no diseases by covid-19 in oversampled data is  0.5\n",
      "Proportion of diseases by covid-19 in oversampled data is  0.5\n"
     ]
    }
   ],
   "source": [
    "from sklearn import preprocessing\n",
    "os = SMOTE(random_state=0)\n",
    "#Entrenamiento de datos para conseguir el Oversampling\n",
    "X_train, X_test, y_train, y_test = train_test_split(X, y, test_size=0.3, random_state=0)\n",
    "columns = X_train.columns\n",
    "os_data_X,os_data_y= os.fit_resample(X_train, y_train)\n",
    "#Creación del data frame nuevo\n",
    "os_data_X = pd.DataFrame(data=os_data_X,columns=columns )\n",
    "os_data_y= pd.DataFrame(data=os_data_y,columns=['cdc_fallecido_covid'])\n",
    "# we can Check the numbers of our data\n",
    "print(\"length of oversampled data is \",len(os_data_X))\n",
    "print(\"Number of no diseases by covid-19\",len(os_data_y[os_data_y['cdc_fallecido_covid']==0]))\n",
    "print(\"Number of diseases by covid-19\",len(os_data_y[os_data_y['cdc_fallecido_covid']==1]))\n",
    "print(\"Proportion of no diseases by covid-19 in oversampled data is \",len(os_data_y[os_data_y['cdc_fallecido_covid']==0])/len(os_data_X))\n",
    "print(\"Proportion of diseases by covid-19 in oversampled data is \",len(os_data_y[os_data_y['cdc_fallecido_covid']==1])/len(os_data_X))"
   ]
  },
  {
   "cell_type": "markdown",
   "metadata": {},
   "source": [
    "<h3>Recursive Feature Elimination</h3>"
   ]
  },
  {
   "cell_type": "code",
   "execution_count": 50,
   "metadata": {},
   "outputs": [
    {
     "name": "stderr",
     "output_type": "stream",
     "text": [
      "c:\\Users\\Usuario\\AppData\\Local\\Programs\\Python\\Python39\\lib\\site-packages\\sklearn\\linear_model\\_logistic.py:814: ConvergenceWarning: lbfgs failed to converge (status=1):\n",
      "STOP: TOTAL NO. of ITERATIONS REACHED LIMIT.\n",
      "\n",
      "Increase the number of iterations (max_iter) or scale the data as shown in:\n",
      "    https://scikit-learn.org/stable/modules/preprocessing.html\n",
      "Please also refer to the documentation for alternative solver options:\n",
      "    https://scikit-learn.org/stable/modules/linear_model.html#logistic-regression\n",
      "  n_iter_i = _check_optimize_result(\n",
      "c:\\Users\\Usuario\\AppData\\Local\\Programs\\Python\\Python39\\lib\\site-packages\\sklearn\\linear_model\\_logistic.py:814: ConvergenceWarning: lbfgs failed to converge (status=1):\n",
      "STOP: TOTAL NO. of ITERATIONS REACHED LIMIT.\n",
      "\n",
      "Increase the number of iterations (max_iter) or scale the data as shown in:\n",
      "    https://scikit-learn.org/stable/modules/preprocessing.html\n",
      "Please also refer to the documentation for alternative solver options:\n",
      "    https://scikit-learn.org/stable/modules/linear_model.html#logistic-regression\n",
      "  n_iter_i = _check_optimize_result(\n",
      "c:\\Users\\Usuario\\AppData\\Local\\Programs\\Python\\Python39\\lib\\site-packages\\sklearn\\linear_model\\_logistic.py:814: ConvergenceWarning: lbfgs failed to converge (status=1):\n",
      "STOP: TOTAL NO. of ITERATIONS REACHED LIMIT.\n",
      "\n",
      "Increase the number of iterations (max_iter) or scale the data as shown in:\n",
      "    https://scikit-learn.org/stable/modules/preprocessing.html\n",
      "Please also refer to the documentation for alternative solver options:\n",
      "    https://scikit-learn.org/stable/modules/linear_model.html#logistic-regression\n",
      "  n_iter_i = _check_optimize_result(\n",
      "c:\\Users\\Usuario\\AppData\\Local\\Programs\\Python\\Python39\\lib\\site-packages\\sklearn\\linear_model\\_logistic.py:814: ConvergenceWarning: lbfgs failed to converge (status=1):\n",
      "STOP: TOTAL NO. of ITERATIONS REACHED LIMIT.\n",
      "\n",
      "Increase the number of iterations (max_iter) or scale the data as shown in:\n",
      "    https://scikit-learn.org/stable/modules/preprocessing.html\n",
      "Please also refer to the documentation for alternative solver options:\n",
      "    https://scikit-learn.org/stable/modules/linear_model.html#logistic-regression\n",
      "  n_iter_i = _check_optimize_result(\n",
      "c:\\Users\\Usuario\\AppData\\Local\\Programs\\Python\\Python39\\lib\\site-packages\\sklearn\\linear_model\\_logistic.py:814: ConvergenceWarning: lbfgs failed to converge (status=1):\n",
      "STOP: TOTAL NO. of ITERATIONS REACHED LIMIT.\n",
      "\n",
      "Increase the number of iterations (max_iter) or scale the data as shown in:\n",
      "    https://scikit-learn.org/stable/modules/preprocessing.html\n",
      "Please also refer to the documentation for alternative solver options:\n",
      "    https://scikit-learn.org/stable/modules/linear_model.html#logistic-regression\n",
      "  n_iter_i = _check_optimize_result(\n",
      "c:\\Users\\Usuario\\AppData\\Local\\Programs\\Python\\Python39\\lib\\site-packages\\sklearn\\linear_model\\_logistic.py:814: ConvergenceWarning: lbfgs failed to converge (status=1):\n",
      "STOP: TOTAL NO. of ITERATIONS REACHED LIMIT.\n",
      "\n",
      "Increase the number of iterations (max_iter) or scale the data as shown in:\n",
      "    https://scikit-learn.org/stable/modules/preprocessing.html\n",
      "Please also refer to the documentation for alternative solver options:\n",
      "    https://scikit-learn.org/stable/modules/linear_model.html#logistic-regression\n",
      "  n_iter_i = _check_optimize_result(\n",
      "c:\\Users\\Usuario\\AppData\\Local\\Programs\\Python\\Python39\\lib\\site-packages\\sklearn\\linear_model\\_logistic.py:814: ConvergenceWarning: lbfgs failed to converge (status=1):\n",
      "STOP: TOTAL NO. of ITERATIONS REACHED LIMIT.\n",
      "\n",
      "Increase the number of iterations (max_iter) or scale the data as shown in:\n",
      "    https://scikit-learn.org/stable/modules/preprocessing.html\n",
      "Please also refer to the documentation for alternative solver options:\n",
      "    https://scikit-learn.org/stable/modules/linear_model.html#logistic-regression\n",
      "  n_iter_i = _check_optimize_result(\n"
     ]
    },
    {
     "name": "stdout",
     "output_type": "stream",
     "text": [
      "['con_oxigeno', 'con_ventilacion', 'fabricante_dosis1_ASTRAZENECA', 'fabricante_dosis1_PFIZER', 'fabricante_dosis1_SINOPHARM', 'fabricante_dosis2_PFIZER', 'fabricante_dosis2_SINOPHARM', 'fabricante_dosis3_ASTRAZENECA', 'fabricante_dosis3_MODERNA', 'fabricante_dosis3_PFIZER', 'age_group_Edad 0-5', 'age_group_Edad 12-18', 'age_group_Edad 19-24', 'age_group_Edad 25-39', 'age_group_Edad 40-49', 'age_group_Edad 50-64', 'age_group_Edad 6-11', 'age_group_Edad 65-75']\n"
     ]
    }
   ],
   "source": [
    "data_final_vars=data_final.columns.values.tolist()\n",
    "y=['cdc_fallecido_covid']\n",
    "X=[i for i in data_final_vars if i not in y]\n",
    "from sklearn.feature_selection import RFE\n",
    "from sklearn.linear_model import LogisticRegression\n",
    "logreg = LogisticRegression()\n",
    "rfe = RFE(logreg, n_features_to_select = 18)\n",
    "rfe = rfe.fit(os_data_X, os_data_y.values.ravel())\n",
    "result = np.where(rfe.ranking_ == 1)\n",
    "lst = []\n",
    "for i in range(0,18): lst.append(result[0][i])\n",
    "lst_1 = []\n",
    "for i in lst: lst_1.append(X[i])  \n",
    "print(lst_1)"
   ]
  },
  {
   "cell_type": "markdown",
   "metadata": {},
   "source": [
    "<h3>Statsmodels</h3>"
   ]
  },
  {
   "cell_type": "code",
   "execution_count": 45,
   "metadata": {},
   "outputs": [
    {
     "name": "stdout",
     "output_type": "stream",
     "text": [
      "Optimization terminated successfully.\n",
      "         Current function value: 0.284513\n",
      "         Iterations 11\n",
      "                            Logit Regression Results                           \n",
      "===============================================================================\n",
      "Dep. Variable:     cdc_fallecido_covid   No. Observations:                21738\n",
      "Model:                           Logit   Df Residuals:                    21720\n",
      "Method:                            MLE   Df Model:                           17\n",
      "Date:                 Sat, 13 Aug 2022   Pseudo R-squ.:                  0.5895\n",
      "Time:                         03:32:11   Log-Likelihood:                -6184.7\n",
      "converged:                        True   LL-Null:                       -15068.\n",
      "Covariance Type:             nonrobust   LLR p-value:                     0.000\n",
      "=================================================================================================\n",
      "                                    coef    std err          z      P>|z|      [0.025      0.975]\n",
      "-------------------------------------------------------------------------------------------------\n",
      "con_oxigeno                       1.0251      0.063     16.166      0.000       0.901       1.149\n",
      "con_ventilacion                   0.9906      0.062     16.018      0.000       0.869       1.112\n",
      "fabricante_dosis1_ASTRAZENECA    -2.0601      0.092    -22.340      0.000      -2.241      -1.879\n",
      "fabricante_dosis1_PFIZER         -0.9250      0.105     -8.836      0.000      -1.130      -0.720\n",
      "fabricante_dosis1_SINOPHARM      -1.9307      0.129    -14.933      0.000      -2.184      -1.677\n",
      "fabricante_dosis2_PFIZER         -1.2972      0.106    -12.261      0.000      -1.505      -1.090\n",
      "fabricante_dosis2_SINOPHARM      -1.0829      0.141     -7.683      0.000      -1.359      -0.807\n",
      "fabricante_dosis3_ASTRAZENECA    -5.6160      0.712     -7.893      0.000      -7.011      -4.221\n",
      "fabricante_dosis3_PFIZER         -2.7488      0.067    -41.259      0.000      -2.879      -2.618\n",
      "age_group_Edad 0-5               -3.0422      0.277    -10.976      0.000      -3.585      -2.499\n",
      "age_group_Edad 6-11              -2.7192      0.387     -7.024      0.000      -3.478      -1.960\n",
      "age_group_Edad 12-18             -1.6518      0.273     -6.061      0.000      -2.186      -1.118\n",
      "age_group_Edad 19-24             -1.2271      0.199     -6.165      0.000      -1.617      -0.837\n",
      "age_group_Edad 25-39             -0.3956      0.087     -4.525      0.000      -0.567      -0.224\n",
      "age_group_Edad 40-49              0.2052      0.086      2.386      0.017       0.037       0.374\n",
      "age_group_Edad 50-64              1.0324      0.074     13.973      0.000       0.888       1.177\n",
      "age_group_Edad 65-75              2.0086      0.085     23.770      0.000       1.843       2.174\n",
      "age_group_Edad 75+                2.8696      0.086     33.497      0.000       2.702       3.038\n",
      "=================================================================================================\n"
     ]
    }
   ],
   "source": [
    "lst_2 = ['con_oxigeno', 'con_ventilacion', 'fabricante_dosis1_ASTRAZENECA', 'fabricante_dosis1_PFIZER', 'fabricante_dosis1_SINOPHARM', 'fabricante_dosis2_PFIZER', 'fabricante_dosis2_SINOPHARM', 'fabricante_dosis3_ASTRAZENECA', 'fabricante_dosis3_PFIZER', 'age_group_Edad 0-5', 'age_group_Edad 6-11', 'age_group_Edad 12-18', 'age_group_Edad 19-24', 'age_group_Edad 25-39', 'age_group_Edad 40-49', 'age_group_Edad 50-64', 'age_group_Edad 65-75', 'age_group_Edad 75+']\n",
    "X=os_data_X[lst_2]\n",
    "y=os_data_y['cdc_fallecido_covid']\n",
    "import statsmodels.api as sm\n",
    "logit_model=sm.Logit(y,X)\n",
    "result=logit_model.fit()\n",
    "print(result.summary()) "
   ]
  },
  {
   "cell_type": "markdown",
   "metadata": {},
   "source": [
    "<center><H1>3: Building The Model</H1></center>"
   ]
  },
  {
   "cell_type": "markdown",
   "metadata": {},
   "source": [
    "<h3>Logistic Regression Traning</h3>"
   ]
  },
  {
   "cell_type": "code",
   "execution_count": 46,
   "metadata": {},
   "outputs": [
    {
     "name": "stdout",
     "output_type": "stream",
     "text": [
      "Accuracy of logistic regression classifier on test set: 0.90\n"
     ]
    }
   ],
   "source": [
    "X_train, X_test, y_train, y_test = train_test_split(X, y, test_size=0.3, random_state=0)\n",
    "logreg = LogisticRegression() #Logistic Function\n",
    "logreg.fit(X_train, y_train) #Train The Model\n",
    "y_pred = logreg.predict(X_test) #Test The Model\n",
    "print('Accuracy of logistic regression classifier on test set: {:.2f}'.format(logreg.score(X_test, y_test))) "
   ]
  },
  {
   "cell_type": "markdown",
   "metadata": {},
   "source": [
    "<h3>Confusion Matrix</h3>"
   ]
  },
  {
   "cell_type": "code",
   "execution_count": 47,
   "metadata": {},
   "outputs": [
    {
     "name": "stdout",
     "output_type": "stream",
     "text": [
      "[[2872  401]\n",
      " [ 278 2971]]\n"
     ]
    }
   ],
   "source": [
    "from sklearn.metrics import confusion_matrix\n",
    "confusion_matrix = confusion_matrix(y_test, y_pred)\n",
    "print(confusion_matrix)"
   ]
  },
  {
   "cell_type": "code",
   "execution_count": 48,
   "metadata": {},
   "outputs": [
    {
     "name": "stdout",
     "output_type": "stream",
     "text": [
      "              precision    recall  f1-score   support\n",
      "\n",
      "           0       0.91      0.88      0.89      3273\n",
      "           1       0.88      0.91      0.90      3249\n",
      "\n",
      "    accuracy                           0.90      6522\n",
      "   macro avg       0.90      0.90      0.90      6522\n",
      "weighted avg       0.90      0.90      0.90      6522\n",
      "\n"
     ]
    }
   ],
   "source": [
    "from sklearn.metrics import classification_report\n",
    "print(classification_report(y_test, y_pred))"
   ]
  },
  {
   "cell_type": "markdown",
   "metadata": {},
   "source": [
    "<h3>ROC Curve</h3>"
   ]
  },
  {
   "cell_type": "code",
   "execution_count": 49,
   "metadata": {},
   "outputs": [
    {
     "data": {
      "image/png": "[encoded data removed]",
      "text/plain": [
       "<Figure size 1044x756 with 1 Axes>"
      ]
     },
     "metadata": {
      "needs_background": "light"
     },
     "output_type": "display_data"
    }
   ],
   "source": [
    "import matplotlib.pyplot as plt \n",
    "from sklearn.metrics import roc_auc_score\n",
    "from sklearn.metrics import roc_curve\n",
    "logit_roc_auc = roc_auc_score(y_test, logreg.predict(X_test))\n",
    "fpr, tpr, thresholds = roc_curve(y_test, logreg.predict_proba(X_test)[:,1])\n",
    "plt.figure()\n",
    "plt.plot(fpr, tpr, label='Logistic Regression (area = %0.2f)' % logit_roc_auc)\n",
    "plt.plot([0, 1], [0, 1],'r--')\n",
    "plt.xlim([0.0, 1.0])\n",
    "plt.ylim([0.0, 1.05])\n",
    "plt.xlabel('False Positive Rate', fontsize = 15)\n",
    "plt.ylabel('True Positive Rate',fontsize = 15)\n",
    "plt.title('Receiver operating characteristic', fontsize = 25)\n",
    "plt.legend(loc=\"lower right\")\n",
    "plt.rc('font', size = 20)\n",
    "fig = plt.gcf()\n",
    "fig.set_size_inches(14.5, 10.5)\n",
    "plt.show()"
   ]
  }
 ],
 "metadata": {
  "kernelspec": {
   "display_name": "Python 3.9.1 64-bit",
   "language": "python",
   "name": "python3"
  },
  "language_info": {
   "codemirror_mode": {
    "name": "ipython",
    "version": 3
   },
   "file_extension": ".py",
   "mimetype": "text/x-python",
   "name": "python",
   "nbconvert_exporter": "python",
   "pygments_lexer": "ipython3",
   "version": "3.9.1"
  },
  "orig_nbformat": 4,
  "vscode": {
   "interpreter": {
    "hash": "4a642a9a94d05d387b7a27be99b5a4ff6656c8c24931cc81c2f78dd14cfb5dc8"
   }
  }
 },
 "nbformat": 4,
 "nbformat_minor": 2
}
